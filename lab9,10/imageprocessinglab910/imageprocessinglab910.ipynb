{
  "cells": [
    {
      "cell_type": "markdown",
      "metadata": {
        "id": "NwV5vtwhWhXG"
      },
      "source": [
        "# Lab 9,10 Hough line transformation"
      ]
    },
    {
      "cell_type": "markdown",
      "metadata": {
        "id": "teNwNgTVWhXI"
      },
      "source": [
        "1. Example https://docs.opencv.org/3.4/d9/db0/tutorial_hough_lines.html\n",
        "\n",
        "2. https://www.youtube.com/watch?v=2CIxM7x-Clc video speed lane detection\n",
        "\n",
        "3. https://www.youtube.com/watch?v=6q5_A5wOwDM original video speed detection\n",
        "\n",
        "4. https://www.youtube.com/watch?v=G2VaJvNNp4k result video (expected)\n",
        "\n",
        "# Даалгавар 1\n",
        "Hough transform ашиглан замын тусгаарлах зураасыг дүрс бичлэгээс илрүүлэх\n",
        "\n",
        "# Даалгавар 2\n",
        "Машины хурд тодорхойлох\n",
        "\n",
        "Хугацаа 3 долоо хоног"
      ]
    },
    {
      "cell_type": "markdown",
      "metadata": {
        "id": "nGlUO6QQWhXJ"
      },
      "source": [
        "# YouTube download video"
      ]
    },
    {
      "cell_type": "code",
      "execution_count": null,
      "metadata": {
        "id": "YGWslKfMWhXJ"
      },
      "outputs": [],
      "source": [
        "!python -m pip install pytube"
      ]
    },
    {
      "cell_type": "markdown",
      "metadata": {
        "id": "7xxiWEi8WhXK"
      },
      "source": [
        "# Usage pytube\n",
        " ```python\n",
        " >>> from pytube import YouTube\n",
        " >>> YouTube('https://youtu.be/2lAe1cqCOXo').streams.first().download()\n",
        " >>> yt = YouTube('http://youtube.com/watch?v=2lAe1cqCOXo')\n",
        " >>> yt.streams\n",
        "  ... .filter(progressive=True, file_extension='mp4')\n",
        "  ... .order_by('resolution')\n",
        "  ... .desc()\n",
        "  ... .first()\n",
        "  ... .download()\n",
        "  ```"
      ]
    },
    {
      "cell_type": "code",
      "execution_count": null,
      "metadata": {
        "id": "KyesGIcoWhXK"
      },
      "outputs": [],
      "source": [
        "\"\"\"\n",
        "@file hough_lines.py\n",
        "@brief This program demonstrates line finding with the Hough transform\n",
        "\"\"\"\n",
        "import sys\n",
        "import math\n",
        "import cv2 as cv\n",
        "import numpy as np\n",
        "def main(argv):\n",
        "    \n",
        "    default_file = 'sudoku.png'\n",
        "    filename = argv[0] if len(argv) > 0 else default_file\n",
        "    # Loads an image\n",
        "    src = cv.imread(cv.samples.findFile(filename), cv.IMREAD_GRAYSCALE)\n",
        "    # Check if image is loaded fine\n",
        "    if src is None:\n",
        "        print ('Error opening image!')\n",
        "        print ('Usage: hough_lines.py [image_name -- default ' + default_file + '] \\n')\n",
        "        return -1\n",
        "    \n",
        "    \n",
        "    dst = cv.Canny(src, 50, 200, None, 3)\n",
        "    \n",
        "    # Copy edges to the images that will display the results in BGR\n",
        "    cdst = cv.cvtColor(dst, cv.COLOR_GRAY2BGR)\n",
        "    cdstP = np.copy(cdst)\n",
        "    \n",
        "    lines = cv.HoughLines(dst, 1, np.pi / 180, 150, None, 0, 0)\n",
        "    \n",
        "    if lines is not None:\n",
        "        for i in range(0, len(lines)):\n",
        "            rho = lines[i][0][0]\n",
        "            theta = lines[i][0][1]\n",
        "            a = math.cos(theta)\n",
        "            b = math.sin(theta)\n",
        "            x0 = a * rho\n",
        "            y0 = b * rho\n",
        "            pt1 = (int(x0 + 1000*(-b)), int(y0 + 1000*(a)))\n",
        "            pt2 = (int(x0 - 1000*(-b)), int(y0 - 1000*(a)))\n",
        "            cv.line(cdst, pt1, pt2, (0,0,255), 3, cv.LINE_AA)\n",
        "    \n",
        "    \n",
        "    linesP = cv.HoughLinesP(dst, 1, np.pi / 180, 50, None, 50, 10)\n",
        "    \n",
        "    if linesP is not None:\n",
        "        for i in range(0, len(linesP)):\n",
        "            l = linesP[i][0]\n",
        "            cv.line(cdstP, (l[0], l[1]), (l[2], l[3]), (0,0,255), 3, cv.LINE_AA)\n",
        "    \n",
        "    cv.imshow(\"Source\", src)\n",
        "    cv.imshow(\"Detected Lines (in red) - Standard Hough Line Transform\", cdst)\n",
        "    cv.imshow(\"Detected Lines (in red) - Probabilistic Line Transform\", cdstP)\n",
        "    \n",
        "    cv.waitKey()\n",
        "    return 0\n",
        "    \n",
        "if __name__ == \"__main__\":\n",
        "    main(sys.argv[1:])"
      ]
    }
  ],
  "metadata": {
    "language_info": {
      "name": "python"
    },
    "orig_nbformat": 4,
    "colab": {
      "provenance": []
    }
  },
  "nbformat": 4,
  "nbformat_minor": 0
}